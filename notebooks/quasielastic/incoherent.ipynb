{
 "cells": [
  {
   "cell_type": "markdown",
   "metadata": {},
   "source": [
    "### Requirements\n",
    "\n",
    "#### Python packages\n",
    "\n",
    "The following packages are not required by <i>nscsim</i> but are needed to run this notebook\n",
    "\n",
    "- [cython](https://pypi.org/project/Cython/)\n",
    "- [MDAnalysis](https://pypi.org/project/MDAnalysis/)\n",
    "- [periodictable](https://pypi.org/project/periodictable/)"
   ]
  },
  {
   "cell_type": "markdown",
   "metadata": {},
   "source": [
    "### Requirements"
   ]
  },
  {
   "cell_type": "code",
   "execution_count": 13,
   "metadata": {},
   "outputs": [],
   "source": [
    "%matplotlib notebook\n",
    "import matplotlib.pyplot as plt\n",
    "plt.ion()\n",
    "import numpy as np\n",
    "import MDAnalysis as mda\n",
    "import periodictable\n",
    "import nscsim\n",
    "from nscsim.quasielastic import incoherent as incoh\n",
    "from nscsim.qvec import moduli_linscale\n",
    "from nscsim import plotting"
   ]
  },
  {
   "cell_type": "markdown",
   "metadata": {},
   "source": [
    "### Download water simulation\n",
    "`wget` and `tar` commands are necessary.  \n",
    "You may skip this step if running the notebook more than once"
   ]
  },
  {
   "cell_type": "code",
   "execution_count": null,
   "metadata": {},
   "outputs": [],
   "source": [
    "%%capture\n",
    "%%bash\n",
    "wget https://www.dropbox.com/s/7imfnz6ma1kh41w/water_4000.tar.gz\n",
    "tar zxf water_4000.tar.gz"
   ]
  },
  {
   "cell_type": "markdown",
   "metadata": {},
   "source": [
    "### Create system and extract coordinates\n",
    "\n",
    "`u` is a `MDAnalysis.Universe` object. It contains 154 Lithium atoms, 154 Chloride atoms, and 1128 TIP3 water molecules."
   ]
  },
  {
   "cell_type": "code",
   "execution_count": 14,
   "metadata": {},
   "outputs": [],
   "source": [
    "u = mda.Universe('topology.psf', 'trajectory.dcd')"
   ]
  },
  {
   "cell_type": "markdown",
   "metadata": {},
   "source": [
    "We investigate the trajectory."
   ]
  },
  {
   "cell_type": "code",
   "execution_count": 15,
   "metadata": {},
   "outputs": [
    {
     "name": "stdout",
     "output_type": "stream",
     "text": [
      "number of conformations = 4000\n",
      "Size of the box, in Angstroms = [33.6035 33.6035 33.6035]\n",
      "It is a cubic box, as evidenced by the angles between box sides:  [90. 90. 90.]\n"
     ]
    }
   ],
   "source": [
    "print('number of conformations =', u.trajectory.n_frames)\n",
    "print('Size of the box, in Angstroms =', u.dimensions[0:3])\n",
    "print('It is a cubic box, as evidenced by the angles between box sides: ',u.dimensions[3:])"
   ]
  },
  {
   "cell_type": "markdown",
   "metadata": {},
   "source": [
    "Select only the hydrogens and oxygens. There should be three atoms per water molecule. A look at file <i>topology.psf</i> shows that water hydrogens have type `HT` and water oxygens have type `OT`"
   ]
  },
  {
   "cell_type": "code",
   "execution_count": 16,
   "metadata": {},
   "outputs": [
    {
     "name": "stdout",
     "output_type": "stream",
     "text": [
      "number of atoms selected = 3384\n",
      "number of atoms per water molecule =  3.0\n"
     ]
    }
   ],
   "source": [
    "sel = u.select_atoms('type HT or type OT')\n",
    "print('number of atoms selected =', len(sel))\n",
    "print('number of atoms per water molecule = ', len(sel)/len(sel.residues))"
   ]
  },
  {
   "cell_type": "markdown",
   "metadata": {},
   "source": [
    "Obtain the bound incoherent neutron scattering cross sections for the atoms of our selection `sel`. Notice we have to \"translate\" from NAMD atom types to the name of the atomic element. We use dictionary `type_to_element` for this. Then we iterate over our selected atoms"
   ]
  },
  {
   "cell_type": "markdown",
   "metadata": {},
   "source": [
    "### Calculate the incoherent dynamic structure factor `S(q, t)`\n",
    "\n",
    "The liquid allows to compute scattering only as a function of Q-vector modulus so we carry out a spherical average for all orientations of vector Q (function `intermediate_spherical`)."
   ]
  },
  {
   "cell_type": "code",
   "execution_count": 17,
   "metadata": {},
   "outputs": [],
   "source": [
    "q_mod = moduli_linscale(0.1, q_mod_max=2.1, q_mod_delta=0.2)\n",
    "# Extract coordinates to numpy array with shape=(#atoms, #frames, 3)\n",
    "tr = np.asarray([sel.positions for _ in u.trajectory[0:1000:1]])  # shape=(#frames, #atoms, #3)\n",
    "tr = tr.transpose((1,0,2))  # shape=(#atoms, #frames, 3)"
   ]
  },
  {
   "cell_type": "code",
   "execution_count": 18,
   "metadata": {},
   "outputs": [
    {
     "name": "stdout",
     "output_type": "stream",
     "text": [
      "[ 0.   80.26 80.26  0.   80.26 80.26  0.   80.26 80.26]\n"
     ]
    }
   ],
   "source": [
    "type_to_element = dict(HT='H', OT='O')\n",
    "xi = np.asarray([getattr(periodictable, type_to_element[at.type]).neutron.incoherent for at in sel])\n",
    "print(xi[0:9])\n",
    "bi = np.sqrt(xi)  # incoherent.intermediate_spherical module requires bi instead of xi"
   ]
  },
  {
   "cell_type": "code",
   "execution_count": null,
   "metadata": {},
   "outputs": [],
   "source": [
    "results = incoh.self_intermediate_spherical(q_mod, tr, bi, nt=500, n_cores=8)\n",
    "sf, times = results.sf, results.t"
   ]
  },
  {
   "cell_type": "markdown",
   "metadata": {},
   "source": [
    "Simple plotting of the curve."
   ]
  },
  {
   "cell_type": "code",
   "execution_count": null,
   "metadata": {},
   "outputs": [],
   "source": [
    "plotting.single_curve(times, sf[0], label='time', ylabel='Incoherent Intensity')"
   ]
  },
  {
   "cell_type": "markdown",
   "metadata": {},
   "source": [
    "Notice that at long times the scattering is not reliable due to low statistical sampling. A more reliable curve at times~1000 can be obtained if we use all frames, not just the first 1000:\n",
    "\n",
    "<code>tr = np.asarray([sel.positions for _ in u.trajectory[::1]]) # all frames in the trajectory</code>"
   ]
  },
  {
   "cell_type": "markdown",
   "metadata": {},
   "source": [
    "Plot all curves sequentially"
   ]
  },
  {
   "cell_type": "markdown",
   "metadata": {},
   "source": [
    "### Calculate the coherent dynamic structure factor `S(q)` in a log scale of Q-values\n",
    "\n",
    "We will calculate more values of Q using the first 100 oxygen atoms and all the trajectory frames. Here we calculate scattering from `Q=0.01` to `Q=10` for a total of 15 Q-values spaced in a log scale."
   ]
  },
  {
   "cell_type": "code",
   "execution_count": null,
   "metadata": {},
   "outputs": [],
   "source": [
    "common = dict(xlabel='time', ylabel='Incoherent Intensity', xscale='linear', yscale='linear')\n",
    "for i, curve in enumerate(sf):\n",
    "    common['label'] = 'Q={:.2f}'.format(q_mod[i])\n",
    "    plotting.single_curve(times, curve, **common)"
   ]
  }
 ],
 "metadata": {
  "kernelspec": {
   "display_name": "Python 3",
   "language": "python",
   "name": "python3"
  },
  "language_info": {
   "codemirror_mode": {
    "name": "ipython",
    "version": 3
   },
   "file_extension": ".py",
   "mimetype": "text/x-python",
   "name": "python",
   "nbconvert_exporter": "python",
   "pygments_lexer": "ipython3",
   "version": "3.6.7"
  }
 },
 "nbformat": 4,
 "nbformat_minor": 2
}
