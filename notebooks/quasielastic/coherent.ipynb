{
 "cells": [
  {
   "cell_type": "markdown",
   "metadata": {},
   "source": [
    "### Requirements\n",
    "\n",
    "#### Python packages\n",
    "\n",
    "The following packages are not required by <i>nscsim</i> but are needed to run this notebook\n",
    "\n",
    "- [cython](https://pypi.org/project/Cython/)\n",
    "- [MDAnalysis](https://pypi.org/project/MDAnalysis/)\n",
    "- [periodictable](https://pypi.org/project/periodictable/)"
   ]
  },
  {
   "cell_type": "markdown",
   "metadata": {},
   "source": [
    "### Requirements"
   ]
  },
  {
   "cell_type": "code",
   "execution_count": 30,
   "metadata": {},
   "outputs": [],
   "source": [
    "%matplotlib notebook\n",
    "import matplotlib.pyplot as plt\n",
    "plt.ion()\n",
    "import numpy as np\n",
    "import MDAnalysis as mda\n",
    "import periodictable\n",
    "import nscsim\n",
    "from nscsim.quasielastic import coherent as coh\n",
    "from nscsim import plotting"
   ]
  },
  {
   "cell_type": "markdown",
   "metadata": {},
   "source": [
    "### Download water simulation\n",
    "`wget` and `tar` commands are necessary.  \n",
    "You may skip this step if running the notebook more than once"
   ]
  },
  {
   "cell_type": "code",
   "execution_count": null,
   "metadata": {},
   "outputs": [],
   "source": [
    "%%capture\n",
    "%%bash\n",
    "wget https://www.dropbox.com/s/7imfnz6ma1kh41w/water_4000.tar.gz\n",
    "tar zxf water_4000.tar.gz"
   ]
  },
  {
   "cell_type": "markdown",
   "metadata": {},
   "source": [
    "### Create system and extract coordinates\n",
    "\n",
    "`u` is a `MDAnalysis.Universe` object. It contains 154 Lithium atoms, 154 Chloride atoms, and 1128 TIP3 water molecules."
   ]
  },
  {
   "cell_type": "code",
   "execution_count": 31,
   "metadata": {},
   "outputs": [],
   "source": [
    "u = mda.Universe('topology.psf', 'trajectory.dcd')"
   ]
  },
  {
   "cell_type": "markdown",
   "metadata": {},
   "source": [
    "We investigate the trajectory."
   ]
  },
  {
   "cell_type": "code",
   "execution_count": 32,
   "metadata": {},
   "outputs": [
    {
     "name": "stdout",
     "output_type": "stream",
     "text": [
      "number of conformations = 4000\n",
      "Size of the box, in Angstroms = [33.6035 33.6035 33.6035]\n",
      "It is a cubic box, as evidenced by the angles between box sides:  [90. 90. 90.]\n"
     ]
    }
   ],
   "source": [
    "print('number of conformations =', u.trajectory.n_frames)\n",
    "print('Size of the box, in Angstroms =', u.dimensions[0:3])\n",
    "print('It is a cubic box, as evidenced by the angles between box sides: ',u.dimensions[3:])"
   ]
  },
  {
   "cell_type": "markdown",
   "metadata": {},
   "source": [
    "Select only the hydrogens and oxygens. There should be three atoms per water molecule. A look at file <i>topology.psf</i> shows that water hydrogens have type `HT` and water oxygens have type `OT`"
   ]
  },
  {
   "cell_type": "code",
   "execution_count": 33,
   "metadata": {},
   "outputs": [
    {
     "name": "stdout",
     "output_type": "stream",
     "text": [
      "number of atoms selected = 3384\n",
      "number of atoms per water molecule =  3.0\n"
     ]
    }
   ],
   "source": [
    "sel = u.select_atoms('type HT or type OT')\n",
    "print('number of atoms selected =', len(sel))\n",
    "print('number of atoms per water molecule = ', len(sel)/len(sel.residues))"
   ]
  },
  {
   "cell_type": "markdown",
   "metadata": {},
   "source": [
    "Obtain the bound coherent neutron scattering lengths for the atoms of our selection `sel`. Notice we have to \"translate\" from NAMD atom types to the name of the atomic element. We use dictionary `type_to_element` for this. Then we iterate over our selected atoms"
   ]
  },
  {
   "cell_type": "code",
   "execution_count": 34,
   "metadata": {},
   "outputs": [],
   "source": [
    "type_to_element = dict(HT='H', OT='O')\n",
    "#\n",
    "# We use a for loop here\n",
    "#\n",
    "b_c = list()\n",
    "for atom in sel:\n",
    "    atomic_element = type_to_element[atom.type]\n",
    "    coherent_length = getattr(periodictable, atomic_element).neutron.b_c\n",
    "    b_c.append(coherent_length)\n",
    "b_c = np.asarray(b_c)\n",
    "#\n",
    "# Advanced python: the previous lines can be substituted with the following one-liner\n",
    "#\n",
    "#b_c = np.asarray([getattr(periodictable, type_to_element[at.type]).neutron.b_c for at in sel])\n"
   ]
  },
  {
   "cell_type": "markdown",
   "metadata": {},
   "source": [
    "### Calculate the coherent dynamic structure factor `S(q)`\n",
    "\n",
    "We calculate scattering only for Q=0.5 using the first 1000 frames in the trajectory. The liquid allows to compute scattering only as a function of Q-vector modulus so we carry out a spherical average for all orientations of vector Q (function `intermediate_spherical`).\n",
    "\n",
    "Notice we call `intermediate_spherical` only with one core (`n_cores=1`) because in most computers numpy will automatically use parallel versions of underlying computing BLAS libraries. Thus, all cores will be used even if we require one core. If this is not the case for your computer, then you can request more cores by changing the value of keyword `n_cores`."
   ]
  },
  {
   "cell_type": "code",
   "execution_count": null,
   "metadata": {},
   "outputs": [],
   "source": [
    "tr = np.asarray([sel.positions for _ in u.trajectory[0:1000:1]])  # extract coordinates to numpy array\n",
    "q_mod = np.array([0.5, ])\n",
    "sf = coh.intermediate_spherical(tr, q_mod, b_c, n_cores=1)\n",
    "times = coh.times(tr)"
   ]
  },
  {
   "cell_type": "markdown",
   "metadata": {},
   "source": [
    "Simple plotting of the curve."
   ]
  },
  {
   "cell_type": "code",
   "execution_count": null,
   "metadata": {},
   "outputs": [],
   "source": [
    "plotting.single_curve(times, sf[0], label='time', ylabel='Coherent Intensity')"
   ]
  },
  {
   "cell_type": "markdown",
   "metadata": {},
   "source": [
    "Notice that at long times the scattering is not reliable due to low statistical sampling. A more reliable curve at times~1000 can be obtained if we use all frames, not just the first 1000:\n",
    "\n",
    "<code>tr = np.asarray([sel.positions for _ in u.trajectory[::1]]) # all frames in the trajectory</code>"
   ]
  },
  {
   "cell_type": "markdown",
   "metadata": {},
   "source": [
    "### Calculate the coherent dynamic structure factor `S(q)` in a log scale of Q-values\n",
    "\n",
    "We will calculate more values of Q using the first 100 oxygen atoms and all the trajectory frames. Here we calculate scattering from `Q=0.01` to `Q=10` for a total of 15 Q-values spaced in a log scale."
   ]
  },
  {
   "cell_type": "code",
   "execution_count": null,
   "metadata": {},
   "outputs": [],
   "source": [
    "sel = u.select_atoms('type OT')[0:100]\n",
    "tr = np.asarray([sel.positions for _ in u.trajectory[::1]])  # extract coordinates to numpy array\n",
    "b_c = np.asarray([getattr(periodictable, 'O').neutron.b_c for at in sel])\n",
    "\n",
    "q_mod = nscsim.qvec.moduli_logscale(min_exp=-2, max_exp=1, n_per_base=5, base=10)"
   ]
  },
  {
   "cell_type": "code",
   "execution_count": null,
   "metadata": {},
   "outputs": [],
   "source": [
    "sf = coh.intermediate_spherical(tr, q_mod, b_c, n_cores=1)\n",
    "times = coh.times(tr)"
   ]
  },
  {
   "cell_type": "markdown",
   "metadata": {},
   "source": [
    "Plot all curves sequentially"
   ]
  },
  {
   "cell_type": "code",
   "execution_count": null,
   "metadata": {},
   "outputs": [],
   "source": [
    "common = dict(xlabel='time', ylabel='Coherent Intensity', xscale='linear', yscale='linear')\n",
    "for i, curve in enumerate(sf):\n",
    "    common['label'] = 'Q={:.2f}'.format(q_mod[i])\n",
    "    plotting.single_curve(times, curve, **common)"
   ]
  }
 ],
 "metadata": {
  "kernelspec": {
   "display_name": "Python 3",
   "language": "python",
   "name": "python3"
  },
  "language_info": {
   "codemirror_mode": {
    "name": "ipython",
    "version": 3
   },
   "file_extension": ".py",
   "mimetype": "text/x-python",
   "name": "python",
   "nbconvert_exporter": "python",
   "pygments_lexer": "ipython3",
   "version": "3.6.7"
  }
 },
 "nbformat": 4,
 "nbformat_minor": 2
}
