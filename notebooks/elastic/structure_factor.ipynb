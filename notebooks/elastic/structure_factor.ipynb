{
 "cells": [
  {
   "cell_type": "markdown",
   "metadata": {},
   "source": [
    "### Requirements\n",
    "\n",
    "#### Python packages\n",
    "- [cython](https://pypi.org/project/Cython/)\n",
    "- [MDAnalysis](https://pypi.org/project/MDAnalysis/)\n",
    "- [periodictable](https://pypi.org/project/periodictable/)\n"
   ]
  },
  {
   "cell_type": "code",
   "execution_count": null,
   "metadata": {},
   "outputs": [],
   "source": [
    "import numpy as np\n",
    "import MDAnalysis as mda\n",
    "import periodictable\n",
    "import nsc"
   ]
  },
  {
   "cell_type": "markdown",
   "metadata": {},
   "source": [
    "### Download water simulation"
   ]
  },
  {
   "cell_type": "code",
   "execution_count": 4,
   "metadata": {},
   "outputs": [],
   "source": [
    "%%capture\n",
    "%%bash\n",
    "wget https://www.dropbox.com/s/au6k0m84kggq057/water.tar\n",
    "tar xf water.tar"
   ]
  },
  {
   "cell_type": "markdown",
   "metadata": {},
   "source": [
    "### Create system and extract coordinates"
   ]
  },
  {
   "cell_type": "code",
   "execution_count": 14,
   "metadata": {},
   "outputs": [],
   "source": [
    "%%capture\n",
    "u = mda.Universe(\"water/npt.gro\", \"water/nvt.trr\")"
   ]
  },
  {
   "cell_type": "markdown",
   "metadata": {},
   "source": [
    "`u` is a `MDAnalysis.Universe` object. It contains 512 TIP4P water molecules. Each TIP4P water molecule is composed of one oxygen, two hydrogens, and two lone-pair electrons."
   ]
  },
  {
   "cell_type": "code",
   "execution_count": 41,
   "metadata": {
    "scrolled": true
   },
   "outputs": [
    {
     "name": "stdout",
     "output_type": "stream",
     "text": [
      "number of residues = 512\n",
      "Atoms in the first water molecule <AtomGroup [<Atom 1: OW of type O of resname SOL, resid 1 and segid SYSTEM>, <Atom 2: HW1 of type H of resname SOL, resid 1 and segid SYSTEM>, <Atom 3: HW2 of type H of resname SOL, resid 1 and segid SYSTEM>, <Atom 4: LP1 of type L of resname SOL, resid 1 and segid SYSTEM>]>\n"
     ]
    }
   ],
   "source": [
    "print('number of residues =', len(u.residues))\n",
    "print('Atoms in the first water molecule', u.atoms[0:4])"
   ]
  },
  {
   "cell_type": "markdown",
   "metadata": {},
   "source": [
    "Select only the hydrogens and oxygens. There should be three atoms per water molecule"
   ]
  },
  {
   "cell_type": "code",
   "execution_count": 33,
   "metadata": {},
   "outputs": [
    {
     "name": "stdout",
     "output_type": "stream",
     "text": [
      "number of atoms per water molecule =  3.0\n"
     ]
    }
   ],
   "source": [
    "sel = u.select_atoms('type H or type O')\n",
    "print('number of atoms per water molecule = ', len(sel)/len(u.residues))"
   ]
  },
  {
   "cell_type": "markdown",
   "metadata": {},
   "source": [
    "Obtain the bound coherent neutron scattering lengths for our selection."
   ]
  },
  {
   "cell_type": "code",
   "execution_count": 38,
   "metadata": {},
   "outputs": [],
   "source": [
    "# the detailed code. See the end of this cell for the one-liner version.\n",
    "b_c = list()\n",
    "for atom in sel:\n",
    "    element_name = atom.type\n",
    "    element = getattr(periodictable, element_name)\n",
    "    b_c.append(element.neutron.b_c)\n",
    "b_c = np.asarray(b_c)\n",
    "# The one-liner version\n",
    "#b_c = np.asarray([getattr(periodictable, at.type).neutron.b_c  for at in sel])"
   ]
  },
  {
   "cell_type": "code",
   "execution_count": 39,
   "metadata": {},
   "outputs": [
    {
     "name": "stdout",
     "output_type": "stream",
     "text": [
      "[ 5.805  -3.7409 -3.7409 ...  5.805  -3.7409 -3.7409]\n"
     ]
    }
   ],
   "source": [
    "print(b_c)  # units in fm"
   ]
  },
  {
   "cell_type": "markdown",
   "metadata": {},
   "source": [
    "We investigate the trajectory."
   ]
  },
  {
   "cell_type": "code",
   "execution_count": 52,
   "metadata": {},
   "outputs": [
    {
     "name": "stdout",
     "output_type": "stream",
     "text": [
      "number of conformations = 5001\n"
     ]
    }
   ],
   "source": [
    "print('number of conformations =', u.trajectory.n_frames)"
   ]
  },
  {
   "cell_type": "markdown",
   "metadata": {},
   "source": [
    "We will calculate the structure factor for 1000 conformations, out of the 5001. We extract one conformation every 5. We only care about our hydrogen + oxygen selection `sel`."
   ]
  },
  {
   "cell_type": "code",
   "execution_count": 59,
   "metadata": {},
   "outputs": [],
   "source": [
    "xyz = np.asarray([sel.positions for _ in u.trajectory[0:-1:5]])  # from beginning (0) to end (-1) every 5"
   ]
  },
  {
   "cell_type": "code",
   "execution_count": 61,
   "metadata": {},
   "outputs": [
    {
     "name": "stdout",
     "output_type": "stream",
     "text": [
      "(1000, 1536, 3)\n"
     ]
    }
   ],
   "source": [
    "print(xyz.shape)  #  1000 conformations, 1536 atoms per conformation, 3 coordinates (x, y, z) per atoms"
   ]
  },
  {
   "cell_type": "code",
   "execution_count": null,
   "metadata": {},
   "outputs": [],
   "source": []
  }
 ],
 "metadata": {
  "kernelspec": {
   "display_name": "Python 3",
   "language": "python",
   "name": "python3"
  },
  "language_info": {
   "codemirror_mode": {
    "name": "ipython",
    "version": 3
   },
   "file_extension": ".py",
   "mimetype": "text/x-python",
   "name": "python",
   "nbconvert_exporter": "python",
   "pygments_lexer": "ipython3",
   "version": "3.6.5"
  }
 },
 "nbformat": 4,
 "nbformat_minor": 2
}
